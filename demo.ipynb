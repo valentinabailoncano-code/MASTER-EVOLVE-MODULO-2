# demo.ipynb – Ejemplo interactivo del paquete `proyecto`

from proyecto import (
    limpiar_texto,
    detectar_idioma,
    eliminar_stopwords,
    contar_palabras,
    frecuencia_palabras
)

texto = "¡Hola Mundo! Esto es un ejemplo completo para DEMO de la librería."

# 1. Detección de idioma
idioma = detectar_idioma(texto)
print(f"🌍 Idioma detectado: {idioma}")

# 2. Limpieza
texto_limpio = limpiar_texto(texto)
print(f"🔤 Texto limpio: {texto_limpio}")

# 3. Eliminación de stopwords
texto_filtrado = eliminar_stopwords(texto_limpio, idioma)
print(f"🧹 Texto sin stopwords: {texto_filtrado}")

# 4. Conteo y frecuencia
total = contar_palabras(texto_filtrado)
print(f"🧮 Total de palabras: {total}")

frecuencias = frecuencia_palabras(texto_filtrado)
print("📊 Frecuencias:", frecuencias)
